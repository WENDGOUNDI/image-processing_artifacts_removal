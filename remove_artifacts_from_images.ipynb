{
 "cells": [
  {
   "cell_type": "code",
   "execution_count": 1,
   "id": "d43ff91d",
   "metadata": {},
   "outputs": [],
   "source": [
    "import cv2\n",
    "import numpy as np\n",
    "import glob"
   ]
  },
  {
   "cell_type": "markdown",
   "id": "8070e415",
   "metadata": {},
   "source": [
    "### Inpainting with Dilatation"
   ]
  },
  {
   "cell_type": "code",
   "execution_count": 2,
   "id": "c357d2c2",
   "metadata": {},
   "outputs": [],
   "source": [
    "# Inpainting\n",
    "import cv2\n",
    "import glob\n",
    "import numpy as np\n",
    "\n",
    "train_ir_path = \"E:/face_data/data/trainB\"\n",
    "test_ir_path = \"D:/github/remove_artifacts/images_artifacts/\"\n",
    "\n",
    "count = 0\n",
    "\n",
    "for i in glob.glob(test_ir_path+\"/*.jpg\"):\n",
    "\n",
    "    img = cv2.imread(i)\n",
    "    #print(i)\n",
    "    # Thresholding with threshold value set 127 \n",
    "    th, dst = cv2.threshold(img,127,255, cv2.THRESH_BINARY)\n",
    "    cv2.imwrite(\"D:/github/remove_artifacts/mask/mask.jpg\", dst)\n",
    "\n",
    "\n",
    "    img_mask_path = glob.glob(\"D:/github/remove_artifacts/mask/*.jpg\")\n",
    "\n",
    "    # Load the mask.\n",
    "    for j in img_mask_path:\n",
    "        img_mask = cv2.imread(j, 0)\n",
    "        #print(j)\n",
    "        #mask = cv2.imread(img_mask)\n",
    "\n",
    "        # Inpaint.\n",
    "        inpaint_mask = cv2.dilate(img_mask, np.ones((3, 3)))\n",
    "        dst = cv2.inpaint(img, inpaint_mask, 200, cv2.INPAINT_NS)   # or cv2.INPAINT_NS\n",
    "\n",
    "        # Write the output.\n",
    "        #name = \"E:/face_data/test_server_images/inpainted2/ir_inpainted_\"+str(count)+'.jpg'\n",
    "        name = \"D:/github/remove_artifacts/images_no_artifacts/img_\"+str(count)+'.jpg'\n",
    "        cv2.imwrite(name, dst)\n",
    "        count+=1\n",
    "        #cv2.imshow(\"gray\", dst)\n",
    "        #cv2.waitKey(0)\n",
    "        #cv2.destroyAllWindows()"
   ]
  }
 ],
 "metadata": {
  "kernelspec": {
   "display_name": "Python 3",
   "language": "python",
   "name": "python3"
  },
  "language_info": {
   "codemirror_mode": {
    "name": "ipython",
    "version": 3
   },
   "file_extension": ".py",
   "mimetype": "text/x-python",
   "name": "python",
   "nbconvert_exporter": "python",
   "pygments_lexer": "ipython3",
   "version": "3.6.13"
  }
 },
 "nbformat": 4,
 "nbformat_minor": 5
}
